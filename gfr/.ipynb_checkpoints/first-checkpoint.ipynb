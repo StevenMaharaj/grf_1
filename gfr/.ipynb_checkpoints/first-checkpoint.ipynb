{
 "cells": [
  {
   "cell_type": "code",
   "execution_count": 2,
   "metadata": {},
   "outputs": [],
   "source": [
    "import numpy as np\n",
    "import matplotlib.pyplot as plt"
   ]
  },
  {
   "cell_type": "code",
   "execution_count": 5,
   "metadata": {},
   "outputs": [],
   "source": [
    "def KL_1DNys(N,M,a,b,Cov,quad = \"EOLE\"):\n",
    "    \"\"\"\n",
    "    Karhunen-Loeve in 1-Dimension using Nystrom method.\n",
    "    -----\n",
    "    input\n",
    "    -----\n",
    "    N: Order of the Karhunen-Loeve expansion.\n",
    "    M: number of quadrature intervals . N <=M\n",
    "    a,b: domain of simulation, X_t for t in [a,b]\n",
    "    Cov: The covariance function, a bivariate function\n",
    "    quad: Quadrature used.\"EOLE\" for the EOLE method. I tried Gauss-Legendre\n",
    "    before and there was an issue with inaccurate simulation at the end\n",
    "    points of the simulation domain\n",
    "    -----\n",
    "    output\n",
    "    -----\n",
    "    X: a 1-D array of the random field\n",
    "    phi: a 2-D arrray whose columns are the eigenfunctions\n",
    "    L: an 1-D array of the eigenvalues.\n",
    "    \"\"\"\n",
    "    if N > M:\n",
    "        raise ValueError('Order of expansion N should be less than quadrature\\\n",
    "points used')\n",
    "    if quad == \"EOLE\": # EOLE method\n",
    "        x = np.linspace(a,b,M+1) # EOLE uniform grid.\n",
    "        W = (1./M)*(b-a)*np.eye(M+1) #EOLE weight matrix\n",
    "        x1,x2 = np.meshgrid(x,x)\n",
    "        C = Cov(x1,x2) # covariance matrix\n",
    "        B = np.dot(np.dot(np.sqrt(W),C),np.sqrt(W)) #symmetric B matrix.\n",
    "        L,y = np.linalg.eig(B) # eigenvalues and -vectors of B\n",
    "        X = np.zeros(M+1)\n",
    "        W_inv = np.sqrt((float(M)/(b-a)))*np.eye(M+1) # weights matrix.\n",
    "        phi = np.dot(W_inv,y) # original eigenvector problem.\n",
    "        Z = np.random.randn(M+1)\n",
    "        for i in range(N):\n",
    "            X += Z[i]*np.sqrt(L[i])*phi[:,i]\n",
    "        return X, phi, L\n",
    "    else:\n",
    "        raise ValueError('We only have EOLE quadrature for now.')\n",
    "\n"
   ]
  },
  {
   "cell_type": "code",
   "execution_count": 6,
   "metadata": {},
   "outputs": [
    {
     "name": "stdout",
     "output_type": "stream",
     "text": [
      "[0.40731577 0.04525916 0.01629463 0.00831461 0.00503065 0.00336831\n",
      " 0.00241222 0.00181237 0.00141148 0.00113038]\n",
      "[0.4052847345693511, 0.04503163717437234, 0.016211389382774045, 0.008271117032027573, 0.005003515241596927, 0.003349460616275629, 0.002398134524079001, 0.0018012654869748938, 0.001402369323769381, 0.0011226723949289506]\n",
      "14.142135623730951\n"
     ]
    },
    {
     "data": {
      "image/png": "[encoded data removed]",
      "text/plain": [
       "<Figure size 432x288 with 1 Axes>"
      ]
     },
     "metadata": {
      "needs_background": "light"
     },
     "output_type": "display_data"
    }
   ],
   "source": [
    "N = 100 # order of the KL expansion\n",
    "M = 200 # M+1 quadrature points\n",
    "def Bm(t,s):\n",
    "    return np.minimum(t,s)\n",
    "a, b = 0., 1. # domain of simulation\n",
    "X,phi,L = KL_1DNys(N,M,a,b,Bm)\n",
    "print(L[:10])\n",
    "print([ 1./((k+0.5)**2*np.pi**2) for k in range(10)])\n",
    "# plot eigenvalues: pi/L = (k-0.5)**2 for BM\n",
    "L_ex = [(k+0.5)**2 for k in range(10)]\n",
    "L_app = 1./(L[:10]*np.pi**2)\n",
    "plt.plot(L_ex, label = \"exact eigenvalues\")\n",
    "plt.plot(L_app,'x', label = \"numerical eigenvalues\")\n",
    "plt.legend()\n",
    "plt.ylabel(r' $\\frac{1}{\\lambda_k\\pi^2}$')\n",
    "plt.title(' Eigenvalues')\n",
    "plt.savefig(\"BM_EV_eg.pdf\")\n",
    "plt.close()\n",
    "t= np.linspace(a,b,M+1) # t-grid\n",
    "print(np.linalg.norm(phi[:,4],2))\n",
    "e= phi[:,4]\n",
    "plt.plot(t, np.sqrt(2)*np.sin(4.5*np.pi*t),'x',label= \"Exact\")\n",
    "plt.plot(t, e, label = \"Numerical\")\n",
    "plt.title(\"Eigenfunction, k = {}\".format(5))\n",
    "plt.legend()\n",
    "plt.savefig(\"BM_EF_eg.pdf\")"
   ]
  },
  {
   "cell_type": "code",
   "execution_count": 22,
   "metadata": {},
   "outputs": [],
   "source": [
    "def KL_2DNys(N,n,m,lims,Cov,quad = \"EOLE\"):\n",
    "    \"\"\"\n",
    "    Solver using the Nystrom method for finding the Karhunen-Loeve expansion\t-----\n",
    "    input\n",
    "    -----\n",
    "    N: The order of the Karhunen-Loeve expansion.\n",
    "    n,m: n and m are the number of grid points along x and y direction respectively. \n",
    "    lims: lims=[a,b,c,d] simulation domain is [a,b] x [c,d]\n",
    "    Cov: the covariance function should. Should be given as c(x,y), x and y bivariate vectors.\n",
    "    quad: The quadrature method used. EOLE will be the only implemented for now \n",
    "    \"\"\"\n",
    "    a,b,c,d = lims # extract domain limits\n",
    "    A = (b-a)*(d-c) # Omega area of the rectangular domain.\n",
    "    x, y = np.linspace(a,b,n), np.linspace(a,b,m) \n",
    "    W =(A/((n-1)*(m-1)))*np.eye(n*m)\n",
    "    xx = np.hstack([np.repeat(x,m).reshape(n*m,1),np.tile(y,n).reshape(n*m,1)])\n",
    "    xxx = np.hstack([np.repeat(xx,n*m,axis=0),np.tile(xx,[n*m,1])])\n",
    "    C = Cov(xxx[:,0:2],xxx[:,2:]).reshape(n*m,n*m) #Covariance matrix, check this.\n",
    "    B = np.dot(np.dot(np.sqrt(W),C),np.sqrt(W)) # symmetric pos def B\n",
    "    L,y = np.linalg.eig(B) # eigeevalues and vectors of B.\n",
    "    W_inv = np.sqrt(float((n-1)*(m-1))/A)*np.eye(n*m) # invert W matrix.\n",
    "    phi = np.dot(W_inv,y)\n",
    "    Z = np.random.randn(N) # array of standard normal RVs.\n",
    "    X = np.zeros(n*m)\n",
    "    for i in range(N):\n",
    "        X += np.sqrt(L[i].real)*Z[i]*phi[:,i].real\n",
    "    return X.reshape(n,m), np.array(phi),L # just return eigensuite for now"
   ]
  },
  {
   "cell_type": "code",
   "execution_count": 49,
   "metadata": {},
   "outputs": [
    {
     "name": "stdout",
     "output_type": "stream",
     "text": [
      "[[ 0.          0.          0.         ...  0.          0.\n",
      "   0.        ]\n",
      " [ 0.          0.00479278  0.00958718 ...  0.30173676  0.30012775\n",
      "   0.29873779]\n",
      " [ 0.          0.00277835  0.00556488 ...  0.42158877  0.41775825\n",
      "   0.41467273]\n",
      " ...\n",
      " [ 0.         -0.02920005 -0.06116501 ...  0.65814228  0.62391499\n",
      "   0.59235351]\n",
      " [ 0.         -0.03460872 -0.07198078 ...  0.52569794  0.4909925\n",
      "   0.45914563]\n",
      " [ 0.         -0.04096741 -0.08469126 ...  0.36873636  0.33350744\n",
      "   0.30137556]]\n"
     ]
    },
    {
     "data": {
      "image/png": "[encoded data removed]",
      "text/plain": [
       "<Figure size 432x288 with 2 Axes>"
      ]
     },
     "metadata": {
      "needs_background": "light"
     },
     "output_type": "display_data"
    }
   ],
   "source": [
    "def Cov(x,y):\n",
    "    s = x - y\n",
    "    A = np.array([[1,0.8],[0.8,1]])\n",
    "    arg = A[0,0]*s[:,0]**2 +(A[1,0]+ A[0,1])*s[:,0]*s[:,1] + A[1,1]*s[:,1]**2\n",
    "    return np.exp(-arg)\n",
    "def BM(x,y):\n",
    "    S = np.minimum(x[:,0],y[:,0])*np.minimum(x[:,1],y[:,1])\n",
    "    return S\n",
    "N= 40\n",
    "n,m = 40,40\n",
    "lims = [0., 1., 0., 1.] # limits\n",
    "#x,y = np.linspace(lims[0],lims[1],M[0]+1),np.linspace(lims[2],lims[3],M[1]+1)\n",
    "#xx,yy = np.meshgrid(x,y)\n",
    "X, Phi, L= KL_2DNys(N,n,m,lims,BM)\n",
    "print(X)\n",
    "plt.imshow(X, cmap = \"jet\")\n",
    "plt.colorbar()\n",
    "plt.show()"
   ]
  },
  {
   "cell_type": "code",
   "execution_count": 47,
   "metadata": {},
   "outputs": [
    {
     "data": {
      "text/plain": [
       "array([0., 0., 0., 1.])"
      ]
     },
     "execution_count": 47,
     "metadata": {},
     "output_type": "execute_result"
    }
   ],
   "source": [
    "Z= np.array([[0., 0.],\n",
    "       [1., 0.],\n",
    "       [0., 1.],\n",
    "       [1., 1.]])\n",
    "w= 2*Z\n",
    "BM(Z,w)"
   ]
  },
  {
   "cell_type": "code",
   "execution_count": 41,
   "metadata": {},
   "outputs": [
    {
     "data": {
      "text/plain": [
       "array([-0.26237482,  0.28020699, -0.54455325, -1.44461014,  0.48164064])"
      ]
     },
     "execution_count": 41,
     "metadata": {},
     "output_type": "execute_result"
    }
   ],
   "source": [
    "t = np.random.randn(5)\n",
    "t"
   ]
  },
  {
   "cell_type": "code",
   "execution_count": 42,
   "metadata": {},
   "outputs": [
    {
     "ename": "TypeError",
     "evalue": "only integer scalar arrays can be converted to a scalar index",
     "output_type": "error",
     "traceback": [
      "\u001b[0;31m---------------------------------------------------------------------------\u001b[0m",
      "\u001b[0;31mTypeError\u001b[0m                                 Traceback (most recent call last)",
      "\u001b[0;32m<ipython-input-42-760ed313fb77>\u001b[0m in \u001b[0;36m<module>\u001b[0;34m\u001b[0m\n\u001b[0;32m----> 1\u001b[0;31m \u001b[0mnp\u001b[0m\u001b[0;34m.\u001b[0m\u001b[0mmin\u001b[0m\u001b[0;34m(\u001b[0m\u001b[0mt\u001b[0m\u001b[0;34m,\u001b[0m\u001b[0mt\u001b[0m\u001b[0;34m.\u001b[0m\u001b[0mT\u001b[0m\u001b[0;34m)\u001b[0m\u001b[0;34m\u001b[0m\u001b[0;34m\u001b[0m\u001b[0m\n\u001b[0m",
      "\u001b[0;32m<__array_function__ internals>\u001b[0m in \u001b[0;36mamin\u001b[0;34m(*args, **kwargs)\u001b[0m\n",
      "\u001b[0;32m~/anaconda3/lib/python3.7/site-packages/numpy/core/fromnumeric.py\u001b[0m in \u001b[0;36mamin\u001b[0;34m(a, axis, out, keepdims, initial, where)\u001b[0m\n\u001b[1;32m   2744\u001b[0m     \"\"\"\n\u001b[1;32m   2745\u001b[0m     return _wrapreduction(a, np.minimum, 'min', axis, None, out,\n\u001b[0;32m-> 2746\u001b[0;31m                           keepdims=keepdims, initial=initial, where=where)\n\u001b[0m\u001b[1;32m   2747\u001b[0m \u001b[0;34m\u001b[0m\u001b[0m\n\u001b[1;32m   2748\u001b[0m \u001b[0;34m\u001b[0m\u001b[0m\n",
      "\u001b[0;32m~/anaconda3/lib/python3.7/site-packages/numpy/core/fromnumeric.py\u001b[0m in \u001b[0;36m_wrapreduction\u001b[0;34m(obj, ufunc, method, axis, dtype, out, **kwargs)\u001b[0m\n\u001b[1;32m     88\u001b[0m                 \u001b[0;32mreturn\u001b[0m \u001b[0mreduction\u001b[0m\u001b[0;34m(\u001b[0m\u001b[0maxis\u001b[0m\u001b[0;34m=\u001b[0m\u001b[0maxis\u001b[0m\u001b[0;34m,\u001b[0m \u001b[0mout\u001b[0m\u001b[0;34m=\u001b[0m\u001b[0mout\u001b[0m\u001b[0;34m,\u001b[0m \u001b[0;34m**\u001b[0m\u001b[0mpasskwargs\u001b[0m\u001b[0;34m)\u001b[0m\u001b[0;34m\u001b[0m\u001b[0;34m\u001b[0m\u001b[0m\n\u001b[1;32m     89\u001b[0m \u001b[0;34m\u001b[0m\u001b[0m\n\u001b[0;32m---> 90\u001b[0;31m     \u001b[0;32mreturn\u001b[0m \u001b[0mufunc\u001b[0m\u001b[0;34m.\u001b[0m\u001b[0mreduce\u001b[0m\u001b[0;34m(\u001b[0m\u001b[0mobj\u001b[0m\u001b[0;34m,\u001b[0m \u001b[0maxis\u001b[0m\u001b[0;34m,\u001b[0m \u001b[0mdtype\u001b[0m\u001b[0;34m,\u001b[0m \u001b[0mout\u001b[0m\u001b[0;34m,\u001b[0m \u001b[0;34m**\u001b[0m\u001b[0mpasskwargs\u001b[0m\u001b[0;34m)\u001b[0m\u001b[0;34m\u001b[0m\u001b[0;34m\u001b[0m\u001b[0m\n\u001b[0m\u001b[1;32m     91\u001b[0m \u001b[0;34m\u001b[0m\u001b[0m\n\u001b[1;32m     92\u001b[0m \u001b[0;34m\u001b[0m\u001b[0m\n",
      "\u001b[0;31mTypeError\u001b[0m: only integer scalar arrays can be converted to a scalar index"
     ]
    }
   ],
   "source": [
    "for i \n",
    "np.min(t,)"
   ]
  },
  {
   "cell_type": "code",
   "execution_count": null,
   "metadata": {},
   "outputs": [],
   "source": []
  }
 ],
 "metadata": {
  "kernelspec": {
   "display_name": "Python 3",
   "language": "python",
   "name": "python3"
  },
  "language_info": {
   "codemirror_mode": {
    "name": "ipython",
    "version": 3
   },
   "file_extension": ".py",
   "mimetype": "text/x-python",
   "name": "python",
   "nbconvert_exporter": "python",
   "pygments_lexer": "ipython3",
   "version": "3.7.3"
  }
 },
 "nbformat": 4,
 "nbformat_minor": 4
}
