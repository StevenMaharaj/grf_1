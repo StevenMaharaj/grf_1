{
 "cells": [
  {
   "cell_type": "code",
   "execution_count": 1,
   "metadata": {},
   "outputs": [],
   "source": [
    "import numpy as np\n",
    "import matplotlib.pyplot as plt"
   ]
  },
  {
   "cell_type": "code",
   "execution_count": 2,
   "metadata": {},
   "outputs": [],
   "source": [
    "def KL_1DNys(N,M,a,b,Cov,quad = \"EOLE\"):\n",
    "    \"\"\"\n",
    "    Karhunen-Loeve in 1-Dimension using Nystrom method.\n",
    "    -----\n",
    "    input\n",
    "    -----\n",
    "    N: Order of the Karhunen-Loeve expansion.\n",
    "    M: number of quadrature intervals . N <=M\n",
    "    a,b: domain of simulation, X_t for t in [a,b]\n",
    "    Cov: The covariance function, a bivariate function\n",
    "    quad: Quadrature used.\"EOLE\" for the EOLE method. I tried Gauss-Legendre\n",
    "    before and there was an issue with inaccurate simulation at the end\n",
    "    points of the simulation domain\n",
    "    -----\n",
    "    output\n",
    "    -----\n",
    "    X: a 1-D array of the random field\n",
    "    phi: a 2-D arrray whose columns are the eigenfunctions\n",
    "    L: an 1-D array of the eigenvalues.\n",
    "    \"\"\"\n",
    "    if N > M:\n",
    "        raise ValueError('Order of expansion N should be less than quadrature\\\n",
    "points used')\n",
    "    if quad == \"EOLE\": # EOLE method\n",
    "        x = np.linspace(a,b,M+1) # EOLE uniform grid.\n",
    "        W = (1./M)*(b-a)*np.eye(M+1) #EOLE weight matrix\n",
    "        x1,x2 = np.meshgrid(x,x)\n",
    "        C = Cov(x1,x2) # covariance matrix\n",
    "        B = np.dot(np.dot(np.sqrt(W),C),np.sqrt(W)) #symmetric B matrix.\n",
    "        L,y = np.linalg.eig(B) # eigenvalues and -vectors of B\n",
    "        X = np.zeros(M+1)\n",
    "        W_inv = np.sqrt((float(M)/(b-a)))*np.eye(M+1) # weights matrix.\n",
    "        phi = np.dot(W_inv,y) # original eigenvector problem.\n",
    "        Z = np.random.randn(M+1)\n",
    "        for i in range(N):\n",
    "            X += Z[i]*np.sqrt(L[i])*phi[:,i]\n",
    "        return X, phi, L\n",
    "    else:\n",
    "        raise ValueError('We only have EOLE quadrature for now.')\n",
    "\n"
   ]
  },
  {
   "cell_type": "code",
   "execution_count": 3,
   "metadata": {},
   "outputs": [
    {
     "name": "stdout",
     "output_type": "stream",
     "text": [
      "[0.40731577 0.04525916 0.01629463 0.00831461 0.00503065 0.00336831\n",
      " 0.00241222 0.00181237 0.00141148 0.00113038]\n",
      "[0.4052847345693511, 0.04503163717437234, 0.016211389382774045, 0.008271117032027573, 0.005003515241596927, 0.003349460616275629, 0.002398134524079001, 0.0018012654869748938, 0.001402369323769381, 0.0011226723949289506]\n",
      "14.142135623730951\n"
     ]
    },
    {
     "data": {
      "image/png": "[encoded data removed]",
      "text/plain": [
       "<Figure size 432x288 with 1 Axes>"
      ]
     },
     "metadata": {
      "needs_background": "light"
     },
     "output_type": "display_data"
    }
   ],
   "source": [
    "N = 100 # order of the KL expansion\n",
    "M = 200 # M+1 quadrature points\n",
    "def Bm(t,s):\n",
    "    return np.minimum(t,s)\n",
    "a, b = 0., 1. # domain of simulation\n",
    "X,phi,L = KL_1DNys(N,M,a,b,Bm)\n",
    "print(L[:10])\n",
    "print([ 1./((k+0.5)**2*np.pi**2) for k in range(10)])\n",
    "# plot eigenvalues: pi/L = (k-0.5)**2 for BM\n",
    "L_ex = [(k+0.5)**2 for k in range(10)]\n",
    "L_app = 1./(L[:10]*np.pi**2)\n",
    "plt.plot(L_ex, label = \"exact eigenvalues\")\n",
    "plt.plot(L_app,'x', label = \"numerical eigenvalues\")\n",
    "plt.legend()\n",
    "plt.ylabel(r' $\\frac{1}{\\lambda_k\\pi^2}$')\n",
    "plt.title(' Eigenvalues')\n",
    "plt.savefig(\"BM_EV_eg.pdf\")\n",
    "plt.close()\n",
    "t= np.linspace(a,b,M+1) # t-grid\n",
    "print(np.linalg.norm(phi[:,4],2))\n",
    "e= phi[:,4]\n",
    "plt.plot(t, np.sqrt(2)*np.sin(4.5*np.pi*t),'x',label= \"Exact\")\n",
    "plt.plot(t, e, label = \"Numerical\")\n",
    "plt.title(\"Eigenfunction, k = {}\".format(5))\n",
    "plt.legend()\n",
    "plt.savefig(\"BM_EF_eg.pdf\")"
   ]
  },
  {
   "cell_type": "code",
   "execution_count": 4,
   "metadata": {},
   "outputs": [],
   "source": [
    "def KL_2DNys(N,n,m,lims,Cov,quad = \"EOLE\"):\n",
    "    \"\"\"\n",
    "    Solver using the Nystrom method for finding the Karhunen-Loeve expansion\t-----\n",
    "    input\n",
    "    -----\n",
    "    N: The order of the Karhunen-Loeve expansion.\n",
    "    n,m: n and m are the number of grid points along x and y direction respectively. \n",
    "    lims: lims=[a,b,c,d] simulation domain is [a,b] x [c,d]\n",
    "    Cov: the covariance function should. Should be given as c(x,y), x and y bivariate vectors.\n",
    "    quad: The quadrature method used. EOLE will be the only implemented for now \n",
    "    \"\"\"\n",
    "    a,b,c,d = lims # extract domain limits\n",
    "    A = (b-a)*(d-c) # Omega area of the rectangular domain.\n",
    "    x, y = np.linspace(a,b,n), np.linspace(a,b,m) \n",
    "    W =(A/((n-1)*(m-1)))*np.eye(n*m)\n",
    "    xx = np.hstack([np.repeat(x,m).reshape(n*m,1),np.tile(y,n).reshape(n*m,1)])\n",
    "    xxx = np.hstack([np.repeat(xx,n*m,axis=0),np.tile(xx,[n*m,1])])\n",
    "    C = Cov(xxx[:,0:2],xxx[:,2:]).reshape(n*m,n*m) #Covariance matrix, check this.\n",
    "    B = np.dot(np.dot(np.sqrt(W),C),np.sqrt(W)) # symmetric pos def B\n",
    "    L,y = np.linalg.eig(B) # eigeevalues and vectors of B.\n",
    "    W_inv = np.sqrt(float((n-1)*(m-1))/A)*np.eye(n*m) # invert W matrix.\n",
    "    phi = np.dot(W_inv,y)\n",
    "    Z = np.random.randn(N) # array of standard normal RVs.\n",
    "    X = np.zeros(n*m)\n",
    "    for i in range(N):\n",
    "        X += np.sqrt(L[i].real)*Z[i]*phi[:,i].real\n",
    "    return X.reshape(n,m), np.array(phi),L # just return eigensuite for now"
   ]
  },
  {
   "cell_type": "code",
   "execution_count": 11,
   "metadata": {},
   "outputs": [
    {
     "name": "stdout",
     "output_type": "stream",
     "text": [
      "[[ 0.          0.          0.         ...  0.          0.\n",
      "   0.        ]\n",
      " [ 0.          0.00398589  0.00784752 ... -0.06920368 -0.06379327\n",
      "  -0.05938961]\n",
      " [ 0.          0.01015828  0.02006701 ... -0.07448741 -0.06340447\n",
      "  -0.05446807]\n",
      " ...\n",
      " [ 0.          0.04870367  0.09163284 ... -0.75432981 -0.56292484\n",
      "  -0.42350065]\n",
      " [ 0.          0.04647854  0.08714753 ... -0.79999137 -0.60770398\n",
      "  -0.46769149]\n",
      " [ 0.          0.04462828  0.08343057 ... -0.84114978 -0.64847674\n",
      "  -0.50819781]]\n"
     ]
    },
    {
     "data": {
      "image/png": "[encoded data removed]",
      "text/plain": [
       "<Figure size 432x288 with 2 Axes>"
      ]
     },
     "metadata": {
      "needs_background": "light"
     },
     "output_type": "display_data"
    }
   ],
   "source": [
    "def Cov(x,y):\n",
    "    s = x - y\n",
    "    A = np.array([[1,0.8],[0.8,1]])\n",
    "    arg = A[0,0]*s[:,0]**2 +(A[1,0]+ A[0,1])*s[:,0]*s[:,1] + A[1,1]*s[:,1]**2\n",
    "    return np.exp(-arg)\n",
    "def BM(x,y):\n",
    "    S = np.minimum(x[:,0],y[:,0])*np.minimum(x[:,1],y[:,1])\n",
    "    return S\n",
    "N= 40\n",
    "n,m = 40,40\n",
    "lims = [0., 1., 0., 1.] # limits\n",
    "#x,y = np.linspace(lims[0],lims[1],M[0]+1),np.linspace(lims[2],lims[3],M[1]+1)\n",
    "#xx,yy = np.meshgrid(x,y)\n",
    "X, Phi, L= KL_2DNys(N,n,m,lims,BM)\n",
    "print(X)\n",
    "plt.Figure(figsize=(12,8))\n",
    "plt.imshow(X, cmap = \"jet\")\n",
    "plt.colorbar()\n",
    "plt.show()"
   ]
  },
  {
   "cell_type": "code",
   "execution_count": 6,
   "metadata": {},
   "outputs": [
    {
     "data": {
      "text/plain": [
       "array([0., 0., 0., 1.])"
      ]
     },
     "execution_count": 6,
     "metadata": {},
     "output_type": "execute_result"
    }
   ],
   "source": [
    "Z= np.array([[0., 0.],\n",
    "       [1., 0.],\n",
    "       [0., 1.],\n",
    "       [1., 1.]])\n",
    "w= 2*Z\n",
    "BM(Z,w)"
   ]
  },
  {
   "cell_type": "code",
   "execution_count": 7,
   "metadata": {},
   "outputs": [
    {
     "data": {
      "text/plain": [
       "array([ 0.2196911 , -0.75325988,  1.60678343,  0.75663818, -0.13552079])"
      ]
     },
     "execution_count": 7,
     "metadata": {},
     "output_type": "execute_result"
    }
   ],
   "source": [
    "t = np.random.randn(5)\n",
    "t"
   ]
  },
  {
   "cell_type": "code",
   "execution_count": 8,
   "metadata": {},
   "outputs": [
    {
     "ename": "SyntaxError",
     "evalue": "invalid syntax (<ipython-input-8-894105dfa425>, line 1)",
     "output_type": "error",
     "traceback": [
      "\u001b[0;36m  File \u001b[0;32m\"<ipython-input-8-894105dfa425>\"\u001b[0;36m, line \u001b[0;32m1\u001b[0m\n\u001b[0;31m    for i\u001b[0m\n\u001b[0m          ^\u001b[0m\n\u001b[0;31mSyntaxError\u001b[0m\u001b[0;31m:\u001b[0m invalid syntax\n"
     ]
    }
   ],
   "source": [
    "for i \n",
    "np.min(t,)"
   ]
  },
  {
   "cell_type": "code",
   "execution_count": null,
   "metadata": {},
   "outputs": [],
   "source": []
  },
  {
   "cell_type": "code",
   "execution_count": null,
   "metadata": {},
   "outputs": [],
   "source": []
  },
  {
   "cell_type": "code",
   "execution_count": null,
   "metadata": {},
   "outputs": [],
   "source": []
  }
 ],
 "metadata": {
  "kernelspec": {
   "display_name": "Python 3",
   "language": "python",
   "name": "python3"
  },
  "language_info": {
   "codemirror_mode": {
    "name": "ipython",
    "version": 3
   },
   "file_extension": ".py",
   "mimetype": "text/x-python",
   "name": "python",
   "nbconvert_exporter": "python",
   "pygments_lexer": "ipython3",
   "version": "3.7.3"
  }
 },
 "nbformat": 4,
 "nbformat_minor": 4
}
