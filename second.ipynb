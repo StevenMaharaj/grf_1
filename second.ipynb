{
 "cells": [
  {
   "cell_type": "code",
   "execution_count": 13,
   "metadata": {},
   "outputs": [],
   "source": [
    "import numpy as np\n",
    "import matplotlib.pyplot as plt\n",
    "from scipy import interpolate"
   ]
  },
  {
   "cell_type": "code",
   "execution_count": 46,
   "metadata": {},
   "outputs": [],
   "source": [
    "def interp_funcs(t,N,Phi):\n",
    "    \"\"\"\n",
    "    Auxiliary function. This interpolates then adds the first\n",
    "    N Eigenfunctions of the Nystrom approximation.\n",
    "    -----\n",
    "    input\n",
    "    -----\n",
    "    N: Order of the Karhunen-Loeve expansion.\n",
    "    Phi: Matrix whose columns contain eigenvectors as grid function.\n",
    "    Z: 1-D array of standard normal simulations.\n",
    "    t: domain of grid points to interpolate on. \n",
    "    -----\n",
    "    output\n",
    "    -----\n",
    "    f: A function which will the sum of the interpolates of eigenfunctions.\n",
    "    \"\"\"\n",
    "    return [interpolate.interp1d(t,Phi[:,k]) for k in range(N)]\n",
    "        \n",
    "def KL_1DNys(N,M,a,b,Cov,quad = \"EOLE\"):\n",
    "    \"\"\"\n",
    "    Karhunen-Loeve in 1-Dimension using Nystrom method.\n",
    "    -----\n",
    "    input\n",
    "    -----\n",
    "    N: Order of the Karhunen-Loeve expansion.\n",
    "    M: number of quadrature points . N <=M\n",
    "    a,b: domain of simulation, X_t for t in [a,b]\n",
    "    Cov: The covariance function, a bivariate function\n",
    "    quad: Quadrature used.\"EOLE\" for the EOLE method. I tried Gauss-Legendre\n",
    "    before and there was an issue with inaccurate simulation at the end\n",
    "    points of the simulation domain\n",
    "    -----\n",
    "    output\n",
    "    -----\n",
    "    X: a 1-D array of the random field\n",
    "    phi: a 2-D arrray whose columns are the eigenfunctions\n",
    "    L: an 1-D array of the eigenvalues.\n",
    "    \"\"\"\n",
    "    if not isinstance(N,int) or N <= 0:\n",
    "        raise TypeError(\"The order of the Karhunen-Loeve expansion should be a positive integer.\")\n",
    "    if not isinstance(M,int) or M <= 1:\n",
    "        raise TypeError(\" The number of quadrature points should be a positive integer two or more.\")\n",
    "    if a >= b:\n",
    "        raise ValueError(\"Domain needs to have a positive length, a < b.\")\n",
    "    if not isinstance(a, (int,float,complex)) or not isinstance(b, (int,float,complex)):\n",
    "        raise TypeError(\"a and b should be real numbers.\")\n",
    "    if N > M:\n",
    "        raise ValueError('Order of expansion N should be less than quadrature\\\n",
    "points used')\n",
    "    if quad == \"EOLE\":\n",
    "        x = np.linspace(a,b,M) # quadrature points grid. \n",
    "        x1,x2 = np.meshgrid(x,x) # mesh grid for the covariance function.\n",
    "        C = Cov(x1,x2) # returns the covariance matrix.\n",
    "        W = ((M-1)/(b-a))*np.eye(M) # The weights matrix.\n",
    "        B = np.dot(np.dot(np.sqrt(W),C),np.sqrt(W)) #symmetric B matrix.\n",
    "        L,Y = np.linalg.eig(B) # return eigenvalues and eigenvectors of B.\n",
    "        W_inv = np.sqrt((b-a)/(M-1))*np.eye(M) # inverse square root of W\n",
    "        phi = np.dot(W_inv,Y) # Eigenvectors of the original problem.\n",
    "        Z = np.random.randn(N) # iid standard normals\n",
    "        phis = interp_funcs(x,N,phi) # list of interpolated eigenvectors\n",
    "        def KL_sum(t):\n",
    "            return sum(phis[k](t)*Z[k]*np.sqrt(L[k]) for k in range(N))\n",
    "        return KL_sum\n",
    "            \n",
    "    "
   ]
  },
  {
   "cell_type": "code",
   "execution_count": 47,
   "metadata": {},
   "outputs": [
    {
     "ename": "NameError",
     "evalue": "name 't' is not defined",
     "output_type": "error",
     "traceback": [
      "\u001b[0;31m---------------------------------------------------------------------------\u001b[0m",
      "\u001b[0;31mNameError\u001b[0m                                 Traceback (most recent call last)",
      "\u001b[0;32m<ipython-input-47-350dcd26b166>\u001b[0m in \u001b[0;36m<module>\u001b[0;34m\u001b[0m\n\u001b[1;32m      4\u001b[0m     \u001b[0;32mreturn\u001b[0m \u001b[0mnp\u001b[0m\u001b[0;34m.\u001b[0m\u001b[0mminimum\u001b[0m\u001b[0;34m(\u001b[0m\u001b[0mt\u001b[0m\u001b[0;34m,\u001b[0m\u001b[0ms\u001b[0m\u001b[0;34m)\u001b[0m\u001b[0;34m\u001b[0m\u001b[0;34m\u001b[0m\u001b[0m\n\u001b[1;32m      5\u001b[0m \u001b[0ma\u001b[0m\u001b[0;34m,\u001b[0m \u001b[0mb\u001b[0m \u001b[0;34m=\u001b[0m \u001b[0;36m0.\u001b[0m\u001b[0;34m,\u001b[0m \u001b[0;36m1.\u001b[0m \u001b[0;31m# domain of simulation\u001b[0m\u001b[0;34m\u001b[0m\u001b[0;34m\u001b[0m\u001b[0m\n\u001b[0;32m----> 6\u001b[0;31m \u001b[0mX\u001b[0m \u001b[0;34m=\u001b[0m \u001b[0mKL_1DNys\u001b[0m\u001b[0;34m(\u001b[0m\u001b[0mN\u001b[0m\u001b[0;34m,\u001b[0m\u001b[0mM\u001b[0m\u001b[0;34m,\u001b[0m\u001b[0ma\u001b[0m\u001b[0;34m,\u001b[0m\u001b[0mb\u001b[0m\u001b[0;34m,\u001b[0m\u001b[0mBm\u001b[0m\u001b[0;34m)\u001b[0m\u001b[0;34m\u001b[0m\u001b[0;34m\u001b[0m\u001b[0m\n\u001b[0m",
      "\u001b[0;32m<ipython-input-46-7d186d88e036>\u001b[0m in \u001b[0;36mKL_1DNys\u001b[0;34m(N, M, a, b, Cov, quad)\u001b[0m\n\u001b[1;32m     61\u001b[0m         \u001b[0;31m#def KL_sum(t):\u001b[0m\u001b[0;34m\u001b[0m\u001b[0;34m\u001b[0m\u001b[0;34m\u001b[0m\u001b[0m\n\u001b[1;32m     62\u001b[0m         \u001b[0;31m#    return sum(phis[k](t)*Z[k]*np.sqrt(L[k]) for k in range(N))\u001b[0m\u001b[0;34m\u001b[0m\u001b[0;34m\u001b[0m\u001b[0;34m\u001b[0m\u001b[0m\n\u001b[0;32m---> 63\u001b[0;31m         \u001b[0;32mreturn\u001b[0m \u001b[0msum\u001b[0m\u001b[0;34m(\u001b[0m\u001b[0mphis\u001b[0m\u001b[0;34m[\u001b[0m\u001b[0mk\u001b[0m\u001b[0;34m]\u001b[0m\u001b[0;34m(\u001b[0m\u001b[0mt\u001b[0m\u001b[0;34m)\u001b[0m\u001b[0;34m*\u001b[0m\u001b[0mZ\u001b[0m\u001b[0;34m[\u001b[0m\u001b[0mk\u001b[0m\u001b[0;34m]\u001b[0m\u001b[0;34m*\u001b[0m\u001b[0mnp\u001b[0m\u001b[0;34m.\u001b[0m\u001b[0msqrt\u001b[0m\u001b[0;34m(\u001b[0m\u001b[0mL\u001b[0m\u001b[0;34m[\u001b[0m\u001b[0mk\u001b[0m\u001b[0;34m]\u001b[0m\u001b[0;34m)\u001b[0m \u001b[0;32mfor\u001b[0m \u001b[0mk\u001b[0m \u001b[0;32min\u001b[0m \u001b[0mrange\u001b[0m\u001b[0;34m(\u001b[0m\u001b[0mN\u001b[0m\u001b[0;34m)\u001b[0m\u001b[0;34m)\u001b[0m\u001b[0;34m\u001b[0m\u001b[0;34m\u001b[0m\u001b[0m\n\u001b[0m\u001b[1;32m     64\u001b[0m \u001b[0;34m\u001b[0m\u001b[0m\n\u001b[1;32m     65\u001b[0m \u001b[0;34m\u001b[0m\u001b[0m\n",
      "\u001b[0;32m<ipython-input-46-7d186d88e036>\u001b[0m in \u001b[0;36m<genexpr>\u001b[0;34m(.0)\u001b[0m\n\u001b[1;32m     61\u001b[0m         \u001b[0;31m#def KL_sum(t):\u001b[0m\u001b[0;34m\u001b[0m\u001b[0;34m\u001b[0m\u001b[0;34m\u001b[0m\u001b[0m\n\u001b[1;32m     62\u001b[0m         \u001b[0;31m#    return sum(phis[k](t)*Z[k]*np.sqrt(L[k]) for k in range(N))\u001b[0m\u001b[0;34m\u001b[0m\u001b[0;34m\u001b[0m\u001b[0;34m\u001b[0m\u001b[0m\n\u001b[0;32m---> 63\u001b[0;31m         \u001b[0;32mreturn\u001b[0m \u001b[0msum\u001b[0m\u001b[0;34m(\u001b[0m\u001b[0mphis\u001b[0m\u001b[0;34m[\u001b[0m\u001b[0mk\u001b[0m\u001b[0;34m]\u001b[0m\u001b[0;34m(\u001b[0m\u001b[0mt\u001b[0m\u001b[0;34m)\u001b[0m\u001b[0;34m*\u001b[0m\u001b[0mZ\u001b[0m\u001b[0;34m[\u001b[0m\u001b[0mk\u001b[0m\u001b[0;34m]\u001b[0m\u001b[0;34m*\u001b[0m\u001b[0mnp\u001b[0m\u001b[0;34m.\u001b[0m\u001b[0msqrt\u001b[0m\u001b[0;34m(\u001b[0m\u001b[0mL\u001b[0m\u001b[0;34m[\u001b[0m\u001b[0mk\u001b[0m\u001b[0;34m]\u001b[0m\u001b[0;34m)\u001b[0m \u001b[0;32mfor\u001b[0m \u001b[0mk\u001b[0m \u001b[0;32min\u001b[0m \u001b[0mrange\u001b[0m\u001b[0;34m(\u001b[0m\u001b[0mN\u001b[0m\u001b[0;34m)\u001b[0m\u001b[0;34m)\u001b[0m\u001b[0;34m\u001b[0m\u001b[0;34m\u001b[0m\u001b[0m\n\u001b[0m\u001b[1;32m     64\u001b[0m \u001b[0;34m\u001b[0m\u001b[0m\n\u001b[1;32m     65\u001b[0m \u001b[0;34m\u001b[0m\u001b[0m\n",
      "\u001b[0;31mNameError\u001b[0m: name 't' is not defined"
     ]
    }
   ],
   "source": [
    "N = 100 # order of the KL expansion\n",
    "M = 200 # M+1 quadrature points\n",
    "def Bm(t,s):\n",
    "    return np.minimum(t,s)\n",
    "a, b = 0., 1. # domain of simulation\n",
    "X = KL_1DNys(N,M,a,b,Bm)"
   ]
  },
  {
   "cell_type": "code",
   "execution_count": 45,
   "metadata": {},
   "outputs": [
    {
     "data": {
      "text/plain": [
       "[<matplotlib.lines.Line2D at 0x1159a3400>]"
      ]
     },
     "execution_count": 45,
     "metadata": {},
     "output_type": "execute_result"
    },
    {
     "data": {
      "image/png": "[encoded data removed]",
      "text/plain": [
       "<Figure size 432x288 with 1 Axes>"
      ]
     },
     "metadata": {
      "needs_background": "light"
     },
     "output_type": "display_data"
    }
   ],
   "source": [
    "x= np.linspace(a,b,M)\n",
    "X(x)\n",
    "plt.plot(X(x))"
   ]
  },
  {
   "cell_type": "code",
   "execution_count": null,
   "metadata": {},
   "outputs": [],
   "source": []
  }
 ],
 "metadata": {
  "kernelspec": {
   "display_name": "Python 3",
   "language": "python",
   "name": "python3"
  },
  "language_info": {
   "codemirror_mode": {
    "name": "ipython",
    "version": 3
   },
   "file_extension": ".py",
   "mimetype": "text/x-python",
   "name": "python",
   "nbconvert_exporter": "python",
   "pygments_lexer": "ipython3",
   "version": "3.7.3"
  }
 },
 "nbformat": 4,
 "nbformat_minor": 2
}
